{
  "nbformat": 4,
  "nbformat_minor": 0,
  "metadata": {
    "colab": {
      "provenance": []
    },
    "kernelspec": {
      "name": "python3",
      "display_name": "Python 3"
    },
    "language_info": {
      "name": "python"
    }
  },
  "cells": [
    {
      "cell_type": "markdown",
      "source": [
        "##Theory"
      ],
      "metadata": {
        "id": "1ftROlk4qnIx"
      }
    },
    {
      "cell_type": "markdown",
      "source": [
        "1. What is the difference between interpreted and compiled languages?\n",
        "\n",
        " Interpreted-It means code is executed without a separate compilation step to convert into machine code. Code is executed line by line. This is in contrast to compiled languages, where the code is first translated into machine code and then executed.\n",
        "\n",
        " Compiled language-When you run a Python program, the Python interpreter first compiles the source code (.py) into bytecode (files with the .pyc extension) that the Python interpreter can then execute. This bytecode is not machine code but a lower-level representation that the interpreter can quickly execute."
      ],
      "metadata": {
        "id": "coCr1a--qnVx"
      }
    },
    {
      "cell_type": "markdown",
      "source": [
        "2. What is exception handling in python?\n",
        "\n",
        " It allows you to manage errors and exceptional situations in a controlled way, ensuring that your program doesn't crash unexpectedly. Instead of allowing the program to halt when an error occurs, you can catch exceptions and handle them gracefully. Basic syntax are: try, except, else, finally etc."
      ],
      "metadata": {
        "id": "bKCeeZ39qnge"
      }
    },
    {
      "cell_type": "markdown",
      "source": [
        "3. What is the purpose of the finally block in exception handling?\n",
        "\n",
        " The finally block in Python is part of the exception handling mechanism, and it is used for cleanup activities. The code in the finally block will always execute, regardless of whether an exception was raised or not. This makes it a good place to put code that needs to run no matter what, such as closing files, releasing resources, or committing changes to a database."
      ],
      "metadata": {
        "id": "rHiV0v0Jqni1"
      }
    },
    {
      "cell_type": "markdown",
      "source": [
        "4. What is logging in Python?\n",
        "\n",
        " It refers to the process of recording events, information, warnings, and errors that occur while a program is running. The logging module provides a flexible framework for capturing and storing log messages, which can help with debugging, monitoring, and maintaining our application. Some log levels are: Debug, Info, Warning, Error and Critical."
      ],
      "metadata": {
        "id": "64YPyP7XqnmR"
      }
    },
    {
      "cell_type": "markdown",
      "source": [
        "5. What is the significance of underscoreunderscore**del**underscoreunderscore method in Python?\n",
        "\n",
        " This method in Python is a special method, sometimes referred to as a \"destructor\". It is part of Python's object-oriented programming system and is used to define the behavior of an object when it is about to be destroyed or garbage collected. This method is called when an object is destroyed by Python's garbage collector. However, it's not guaranteed that it will be called immediately when the object goes out of scope. It might take some time for garbage collector."
      ],
      "metadata": {
        "id": "K5J33XgwqnqT"
      }
    },
    {
      "cell_type": "markdown",
      "source": [
        "6. What is the difference b/w import and from ...import in Python?\n",
        "\n",
        " Import- When we use import, you're bringing the entire module into your current namespace, and you will need to reference elements within that module using the module's name.\n",
        "\n",
        " from ...import- When you use from ... import, you're importing specific components (functions, classes, variables, etc.) from a module directly into your current namespace. This allows you to use those components without needing to reference the module name.\n",
        "\n",
        " Examples are given below respectively."
      ],
      "metadata": {
        "id": "5GefOAf3qntA"
      }
    },
    {
      "cell_type": "code",
      "source": [
        "import math\n",
        "print(math.sqrt(25))"
      ],
      "metadata": {
        "colab": {
          "base_uri": "https://localhost:8080/"
        },
        "id": "_kL3SYeJAixC",
        "outputId": "5bd7a7b3-1215-42b8-bf24-5f3ea058e0b3"
      },
      "execution_count": 2,
      "outputs": [
        {
          "output_type": "stream",
          "name": "stdout",
          "text": [
            "5.0\n"
          ]
        }
      ]
    },
    {
      "cell_type": "code",
      "source": [
        "from math import sqrt\n",
        "print(sqrt(25)) #we can use sqrt() directly without needing to reference math.sqrt()."
      ],
      "metadata": {
        "colab": {
          "base_uri": "https://localhost:8080/"
        },
        "id": "X5GfM4xaBaJ2",
        "outputId": "b17e1933-ddaf-4d2c-f1cd-78845ac549ca"
      },
      "execution_count": 3,
      "outputs": [
        {
          "output_type": "stream",
          "name": "stdout",
          "text": [
            "5.0\n"
          ]
        }
      ]
    },
    {
      "cell_type": "markdown",
      "source": [
        "7. How can you handle multiple exceptions in Python?\n",
        "\n",
        " We can handle multiple exceptions in various ways, depending on the complexity of your code and the types of exceptions you're trying to manage. You can either catch multiple exceptions in a single except block, or you can have different except blocks for each type of exception."
      ],
      "metadata": {
        "id": "Qyc7sHg-qnw-"
      }
    },
    {
      "cell_type": "markdown",
      "source": [
        "8. What is the purpose of the with statement when handling files in Python?\n",
        "\n",
        " We can handle multiple exceptions in various ways, depending on the complexity of our code and the types of exceptions we're trying to manage. We can either catch multiple exceptions in a single except block, or we can have different except blocks for each type of exception.\n",
        " 1. Handling Multiple Exceptions in One except Block:\n",
        "We can handle multiple exceptions by grouping them in a tuple within a single except block. This allows us to handle different types of exceptions in the same way.\n",
        " 2. Handling Multiple Exceptions in Separate except Blocks:\n",
        "If we need to handle different types of exceptions in distinct ways, we can use multiple except blocks, one for each type of exception."
      ],
      "metadata": {
        "id": "4AUCaQAtqnzh"
      }
    },
    {
      "cell_type": "markdown",
      "source": [
        "9. What is the difference b/w multithreading and multiprocessing?\n",
        "\n",
        " Multithreading- It refers to the ability to run multiple threads (smaller units of a process) in a single process. All threads share the same memory space and resources. Threads run concurrently, meaning they share CPU time and perform tasks in an interleaved fashion. It is particularly useful for I/O-bound tasks (e.g., waiting for data from a file, database, or network), where threads spend time waiting and not using the CPU actively. However, it is not ideal for CPU-bound tasks.\n",
        "\n",
        " Multiprocessing- It refers to running multiple processes, each with its own memory space and resources, on separate CPU cores. Each process is independent and has its own Python interpreter and memory. Processes run truly in parallel because they are independent and can be executed on separate CPU cores. This allows CPU-bound tasks to run efficiently."
      ],
      "metadata": {
        "id": "V9FXTEryqn3t"
      }
    },
    {
      "cell_type": "markdown",
      "source": [
        "10. What are the advantages of using logging in a program?\n",
        "\n",
        " Some advantages are:\n",
        "\n",
        " (i) Better Debugging and Troubleshooting: Logging provides a clear trail of what the program is doing and where it might be failing. By capturing detailed information about the execution, you can trace errors, bugs, or unexpected behavior more easily.\n",
        "\n",
        " (ii) Different Log Levels: Debug, Info, Warning, Error and Critical.\n",
        "\n",
        " (iii) Non-Intrusive: We can control when and where logs are output (e.g., console, file, remote server), making it easier to manage how much information is displayed to the user."
      ],
      "metadata": {
        "id": "S25cxDtAqn6B"
      }
    },
    {
      "cell_type": "markdown",
      "source": [
        "11. What is memory management in Python?\n",
        "\n",
        " Memory management in Python refers to how Python handles the allocation and deallocation of memory to store objects during program execution. It is an essential aspect of programming because it ensures that memory is used efficiently and prevents memory leaks or excessive memory consumption. Some important key concepts are: Garbage Collection, Reference Counting, Memory Pools, Object Interning etc."
      ],
      "metadata": {
        "id": "ikcOMouzqn9_"
      }
    },
    {
      "cell_type": "markdown",
      "source": [
        "12. What are the basic steps involved in exceptional handling in Python?\n",
        "\n",
        " It allows you to deal with errors or unexpected situations that may arise during the execution of your program. By handling exceptions properly, you can make your program more robust and prevent it from crashing. Some basic steps are: try, except, else etc."
      ],
      "metadata": {
        "id": "_vdOBZ2TqoAi"
      }
    },
    {
      "cell_type": "markdown",
      "source": [
        "13. Why is memory management important in Python?"
      ],
      "metadata": {
        "id": "uq6ERFkiqoEB"
      }
    },
    {
      "cell_type": "markdown",
      "source": [
        "14. What is the role of try and except in exception handling?\n",
        "\n",
        " These mechanisms play crucial roles in managing and responding to errors or exceptions that occur during program execution.\n",
        "\n",
        " Try block: The try block is where you write the code that might raise an exception. Essentially, it's the code that you want to attempt to run, knowing that some errors could occur. If the code inside the try block executes without any issues, the program continues as usual."
      ],
      "metadata": {
        "id": "5VYB5csPqoGa"
      }
    },
    {
      "cell_type": "code",
      "source": [
        "#example\n",
        "try:\n",
        "    x = 10 / 0  # This will raise a ZeroDivisionError"
      ],
      "metadata": {
        "colab": {
          "base_uri": "https://localhost:8080/",
          "height": 106
        },
        "id": "sCoMgMfaIEuS",
        "outputId": "e5509b62-cd40-4a73-cb5f-751f8e54db29"
      },
      "execution_count": 1,
      "outputs": [
        {
          "output_type": "error",
          "ename": "SyntaxError",
          "evalue": "incomplete input (<ipython-input-1-7987e8f9c9ff>, line 3)",
          "traceback": [
            "\u001b[0;36m  File \u001b[0;32m\"<ipython-input-1-7987e8f9c9ff>\"\u001b[0;36m, line \u001b[0;32m3\u001b[0m\n\u001b[0;31m    x = 10 / 0  # This will raise a ZeroDivisionError\u001b[0m\n\u001b[0m                                                     ^\u001b[0m\n\u001b[0;31mSyntaxError\u001b[0m\u001b[0;31m:\u001b[0m incomplete input\n"
          ]
        }
      ]
    },
    {
      "cell_type": "markdown",
      "source": [
        "Except block: The except block follows the try block and is used to handle specific exceptions that are raised inside the try block. You can have multiple except blocks for different types of exceptions, or a single except to catch all exceptions."
      ],
      "metadata": {
        "id": "XlAEk42JqoJr"
      }
    },
    {
      "cell_type": "code",
      "source": [
        "#example\n",
        "try:\n",
        "    x = 10 / 0  # This will raise a ZeroDivisionError\n",
        "except ZeroDivisionError:\n",
        "    print(\"Cannot divide by zero!\")"
      ],
      "metadata": {
        "colab": {
          "base_uri": "https://localhost:8080/"
        },
        "id": "YrlRZTN5InZU",
        "outputId": "8f9df009-066b-46ca-82d3-3ae7f8783dac"
      },
      "execution_count": 2,
      "outputs": [
        {
          "output_type": "stream",
          "name": "stdout",
          "text": [
            "Cannot divide by zero!\n"
          ]
        }
      ]
    },
    {
      "cell_type": "markdown",
      "source": [
        "15. How does Python's garbage collection system work?\n",
        "\n",
        " Python’s garbage collection system is responsible for automatically managing memory and ensuring that memory is freed when objects are no longer needed, which prevents memory leaks and optimizes resource usage. The primary mechanisms in Python's garbage collection system are reference counting and cyclic garbage collection."
      ],
      "metadata": {
        "id": "1a1MVlb3EEi1"
      }
    },
    {
      "cell_type": "markdown",
      "source": [
        "16. What is the purpose of the else block in exception handling?\n",
        "\n",
        " The else block in Python's exception handling is used to define code that should run only if no exceptions are raised in the associated try block. It is an optional part of the exception handling structure and is particularly useful for cases where you want to execute some code only after the try block has completed successfully, without encountering any errors."
      ],
      "metadata": {
        "id": "7F3v7W5LEEv2"
      }
    },
    {
      "cell_type": "markdown",
      "source": [
        "17. What are the common logging levels in Python?"
      ],
      "metadata": {
        "id": "5ox30AGAEE3Z"
      }
    },
    {
      "cell_type": "markdown",
      "source": [
        "18. What is the difference between os.fork() and multiprocessing in Python?"
      ],
      "metadata": {
        "id": "o5P7xRtsJvBW"
      }
    },
    {
      "cell_type": "markdown",
      "source": [
        "19. What is the importance of closing a file in Python?\n",
        "\n",
        " Closing a file in Python is an important step in file handling because it ensures that the system resources associated with the file are properly released. Here is how important is closing a file: Releasing System Resources, Ensuring Data is Written, Preventing File Corruption, Improving Performance, Using with Statement for Safe File Handling, Error Handling."
      ],
      "metadata": {
        "id": "NK0H5Z36JvQn"
      }
    },
    {
      "cell_type": "markdown",
      "source": [
        "20. What is the difference b/w file.read() and file.readline() in Python?\n",
        "\n",
        " file.read(): Reads the entire content of the file as a single string. When you call file.read(), it reads the entire file and returns all the contents in one go. If the file is large, this can consume a lot of memory. It returns a single string that contains the entire content of the file.\n",
        "\n",
        " file.readline(): Reads one line at a time from the file. Each time you call file.readline(), it reads the next line in the file (up to and including the newline character \\n). You can call it repeatedly to read the file line by line. It returns a string representing one line from the file. If the end of the file is reached, it returns an empty string ''."
      ],
      "metadata": {
        "id": "jW8PEi3kEE_P"
      }
    },
    {
      "cell_type": "markdown",
      "source": [
        "21. What is the logging module in Python used for?\n",
        "\n",
        " The logging module in Python is used for logging events, errors, or general information that occurs during the execution of a program. It is a flexible and powerful tool that allows developers to track the behavior of their applications, troubleshoot issues, and keep a record of system activity. Some key uses are: Tracking Program Execution, Error Reporting, Monitoring, Persisting Logs, Custom Log Levels etc."
      ],
      "metadata": {
        "id": "QM3GmIcAH2Aw"
      }
    },
    {
      "cell_type": "markdown",
      "source": [
        "22. What is the os module in Python used for in file handling?\n",
        "\n",
        " It is a built-in library that provides a way of interacting with the operating system. It includes a variety of functions for working with files and directories, making it a useful tool in file handling. Some key points are: Creating Directories, Removing Directories, Renaming Files or Directories, Deleting Files etc."
      ],
      "metadata": {
        "id": "O1ENlFd_H2Cu"
      }
    },
    {
      "cell_type": "markdown",
      "source": [
        "23. What are the challenges associated with memory management in Python?"
      ],
      "metadata": {
        "id": "HGZxypGgH2GR"
      }
    },
    {
      "cell_type": "markdown",
      "source": [
        "24. How do you raise an exception manually in Python?\n",
        "\n",
        " We can manually raise an exception using the raise keyword. This allows us to generate an exception at any point in our code, either with or without specifying an error message or exception type.\n",
        " Basis Syntax:\n",
        "\n",
        " raise ExceptionType(\"Error message\")"
      ],
      "metadata": {
        "id": "1RTZRQe3Pc1-"
      }
    },
    {
      "cell_type": "markdown",
      "source": [
        "25. Why is it important to use multithreading in certain applications?\n",
        "\n",
        " Multithreading is important in certain applications because it allows a program to execute multiple tasks concurrently, making it more efficient, responsive, and capable of handling complex workloads. Here’s a deeper look at why multithreading is beneficial in certain cases: Improved Performance (Concurrency)-Parallel Task Execution, Better CPU Utilization. Increased Responsiveness-Non-blocking Operations, Simultaneous Handling of Multiple I/O Operations. Better Resource Management-Asynchronous Tasks, Efficient Use of Time."
      ],
      "metadata": {
        "id": "Rdr8KqPtPdFy"
      }
    },
    {
      "cell_type": "markdown",
      "source": [
        "##Practical"
      ],
      "metadata": {
        "id": "pwLwk8oqJyZm"
      }
    },
    {
      "cell_type": "code",
      "source": [
        "#1. How can you open a file for writing in Python and write a string to it?\n",
        "file = open(\"files.txt\", \"w\") #Open the file in write mode ('w')\n",
        "file.write(\"Hello this is my first file.\")# Write a string to the file\n",
        "file.close() #File has been made."
      ],
      "metadata": {
        "id": "djzs944R9VNG"
      },
      "execution_count": 3,
      "outputs": []
    },
    {
      "cell_type": "code",
      "source": [
        "#2. Write a python program to read the contents of a file and print each line.\n",
        "file = open(\"files.txt\", \"w\") #Open the file in write mode ('w')\n",
        "file.write(\"Hello this is my first line.\")# Write a string to the file\n",
        "file.write(\" This is my second line.\")\n",
        "file.close() #File has been made.\n",
        "f=open(\"files.txt\",\"r\")\n",
        "print(f.readlines())\n",
        "f.close()"
      ],
      "metadata": {
        "colab": {
          "base_uri": "https://localhost:8080/"
        },
        "id": "7n1VygyX9VhY",
        "outputId": "c631e824-26bd-4016-9cc4-6e8c802afd05"
      },
      "execution_count": 6,
      "outputs": [
        {
          "output_type": "stream",
          "name": "stdout",
          "text": [
            "['Hello this is my first line. This is my second line.']\n"
          ]
        }
      ]
    },
    {
      "cell_type": "code",
      "source": [
        "#3. How would you handle a case where the file doesn't exist while trying to open it for reading?\n",
        "try:\n",
        "  with open('files.txt', 'r') as f:\n",
        "    contents = f.read()\n",
        "    print(contents)\n",
        "except FileNotFoundError:\n",
        "    # Handle the case when the file does not exist\n",
        "    print(\"Error: The file 'example.txt' does not exist.\")"
      ],
      "metadata": {
        "colab": {
          "base_uri": "https://localhost:8080/"
        },
        "id": "h7tfuVX29Vps",
        "outputId": "be249022-0b1e-4877-b5f9-922720ed25b4"
      },
      "execution_count": 8,
      "outputs": [
        {
          "output_type": "stream",
          "name": "stdout",
          "text": [
            "Hello this is my first line. This is my second line.\n"
          ]
        }
      ]
    },
    {
      "cell_type": "code",
      "source": [
        "#4. Write a Python script that reads from one file and writes its content to another file.\n",
        "\n",
        "try: # Open the source file in read mode ('r') and the destination file in write mode ('w')\n",
        "    with open('source_file.txt', 'r') as source_file:\n",
        "        with open('destination_file.txt', 'w') as dest_file:\n",
        "            # Read the content of the source file and write it to the destination file\n",
        "            content = source_file.read()\n",
        "            dest_file.write(content)\n",
        "    print(\"Content has been successfully copied to 'destination_file.txt'.\")\n",
        "except FileNotFoundError:\n",
        "    print(\"Error: The source file 'source_file.txt' does not exist.\")#It will throw file not found error because source file and destination file are not existed."
      ],
      "metadata": {
        "colab": {
          "base_uri": "https://localhost:8080/"
        },
        "id": "GOD1-DQX9VtM",
        "outputId": "22aadd95-115d-4eb5-c6ce-752553e4dfa8"
      },
      "execution_count": 9,
      "outputs": [
        {
          "output_type": "stream",
          "name": "stdout",
          "text": [
            "Error: The source file 'source_file.txt' does not exist.\n"
          ]
        }
      ]
    },
    {
      "cell_type": "code",
      "source": [
        "#5. How would you catch and handle division by zero error in Python?\n",
        "# Attempt to divide by zero\n",
        "try:\n",
        "  a=10\n",
        "  b=0\n",
        "  result =a/b\n",
        "  print(f\"The result of division is: {result}\")\n",
        "\n",
        "except ZeroDivisionError:\n",
        "    print(\"Error: Cannot divide by zero!\")"
      ],
      "metadata": {
        "colab": {
          "base_uri": "https://localhost:8080/"
        },
        "id": "PL4v5sOU9Vvj",
        "outputId": "22094cc0-dfdc-441b-86b8-e0f3928c03a6"
      },
      "execution_count": 12,
      "outputs": [
        {
          "output_type": "stream",
          "name": "stdout",
          "text": [
            "Error: Cannot divide by zero!\n"
          ]
        }
      ]
    },
    {
      "cell_type": "code",
      "source": [
        "#6. Write a python program that logs an error message to a log file when a division by zero exception occurs."
      ],
      "metadata": {
        "id": "a8AJr5pN9Vyt"
      },
      "execution_count": null,
      "outputs": []
    },
    {
      "cell_type": "code",
      "source": [
        "#7. How do you log information at different levels(INFO, ERROR, WARNING) in python using the logging module?\n"
      ],
      "metadata": {
        "id": "6_B-EXZ29V0w"
      },
      "execution_count": null,
      "outputs": []
    },
    {
      "cell_type": "code",
      "source": [
        "#8. Write a program to handle a file opening error using exception handling.\n",
        "try:\n",
        "    # Attempt to open a file that may not exist or have permission issues\n",
        "    file_name = 'non_existent_file.txt'\n",
        "    with open(file_name, 'r') as file:\n",
        "        content = file.read()\n",
        "        print(content)\n",
        "\n",
        "except FileNotFoundError:\n",
        "    # when the file does not exist\n",
        "    print(f\"Error: The file '{file_name}' was not found.\")\n",
        "\n",
        "except PermissionError:\n",
        "    # when the file exists but the program lacks permissions\n",
        "    print(f\"Error: Permission denied while trying to open '{file_name}'.\")\n",
        "\n",
        "except Exception as e:\n",
        "    # Catch any other exceptions that might occur\n",
        "    print(f\"An unexpected error occurred: {e}\")"
      ],
      "metadata": {
        "colab": {
          "base_uri": "https://localhost:8080/"
        },
        "id": "yfLg8GBn9V5j",
        "outputId": "cd3c8ef7-9c35-430a-b760-ffa4c02c2d15"
      },
      "execution_count": 13,
      "outputs": [
        {
          "output_type": "stream",
          "name": "stdout",
          "text": [
            "Error: The file 'non_existent_file.txt' was not found.\n"
          ]
        }
      ]
    },
    {
      "cell_type": "code",
      "source": [
        "#9. How can you read a file line by line and store its content in a list in Python?\n",
        "lines_list = ['']\n",
        "\n",
        "# Open the file in read mode ('r')\n",
        "with open('files.txt', 'r') as file:\n",
        "    lines_list = file.readlines()\n",
        "\n",
        "# Print the content of the list\n",
        "print(lines_list)"
      ],
      "metadata": {
        "colab": {
          "base_uri": "https://localhost:8080/"
        },
        "id": "WGtg-HA_9V7z",
        "outputId": "4aba5d57-87a5-4207-f5a1-f99fc41cfe3b"
      },
      "execution_count": 16,
      "outputs": [
        {
          "output_type": "stream",
          "name": "stdout",
          "text": [
            "['Hello this is my first line. This is my second line.']\n"
          ]
        }
      ]
    },
    {
      "cell_type": "code",
      "source": [
        "#10. How can you append data to an existing file in Python?\n",
        "lines_to_append = [\n",
        "    \"This is the third line.\\n\",\n",
        "    \"This is the fourth line.\\n\"]\n",
        "with open('files.txt', 'a') as file:\n",
        "    file.writelines(lines_to_append)\n",
        "\n",
        "print(\"Multiple lines have been appended to the file.\")"
      ],
      "metadata": {
        "colab": {
          "base_uri": "https://localhost:8080/"
        },
        "id": "x4VhejhX9V-i",
        "outputId": "a2e5e44c-a37f-49df-b03b-b359bb78dea3"
      },
      "execution_count": 20,
      "outputs": [
        {
          "output_type": "stream",
          "name": "stdout",
          "text": [
            "Multiple lines have been appended to the file.\n"
          ]
        }
      ]
    },
    {
      "cell_type": "code",
      "source": [
        "#11. Write a Python program that uses a try-except block to handle an error when attempting to access a dictionary key that doesn't exist.\n",
        "# Sample dictionary\n",
        "my_dict = {\"name\": \"Alice\", \"age\": 30}\n",
        "\n",
        "# Key to access\n",
        "dict_key = \"address\"\n",
        "\n",
        "try:\n",
        "    # Attempt to access the dictionary with the given key\n",
        "    value = my_dict[dict_key]\n",
        "    print(f\"The value for '{dict_key}' is: {value}\")\n",
        "\n",
        "except KeyError:\n",
        "    # Handle the case where the key does not exist\n",
        "    print(f\"Error: The key '{dict_key}' does not exist in the dictionary.\")"
      ],
      "metadata": {
        "colab": {
          "base_uri": "https://localhost:8080/"
        },
        "id": "ejMOdPO59WAr",
        "outputId": "e42de3da-1ccb-4e6d-c968-c5cfd3f23422"
      },
      "execution_count": 21,
      "outputs": [
        {
          "output_type": "stream",
          "name": "stdout",
          "text": [
            "Error: The key 'address' does not exist in the dictionary.\n"
          ]
        }
      ]
    },
    {
      "cell_type": "code",
      "source": [
        "#12. Write a program that demonstrates using multiple except blocks to handle different types of exceptions.\n",
        "def handle_exceptions():\n",
        "    try:\n",
        "        # Prompt the user for input\n",
        "        number1 = int(input(\"Enter the first number: \"))  # This may raise ValueError\n",
        "        number2 = int(input(\"Enter the second number: \"))  # This may raise ValueError\n",
        "\n",
        "        # Perform division (could raise ZeroDivisionError)\n",
        "        result = number1 / number2\n",
        "\n",
        "        # Output the result\n",
        "        print(f\"The result of {number1} divided by {number2} is: {result}\")\n",
        "\n",
        "    except ValueError:\n",
        "        # Handle invalid input (non-integer input)\n",
        "        print(\"Error: Invalid input! Please enter integers only.\")\n",
        "\n",
        "    except ZeroDivisionError:\n",
        "        # Handle division by zero\n",
        "        print(\"Error: Cannot divide by zero!\")\n",
        "# Call the function\n",
        "handle_exceptions()"
      ],
      "metadata": {
        "colab": {
          "base_uri": "https://localhost:8080/"
        },
        "id": "qusjFD-09WEF",
        "outputId": "379f1d12-b841-448a-d11e-932cc85f9107"
      },
      "execution_count": 22,
      "outputs": [
        {
          "output_type": "stream",
          "name": "stdout",
          "text": [
            "Enter the first number: 10\n",
            "Enter the second number: 2\n",
            "The result of 10 divided by 2 is: 5.0\n"
          ]
        }
      ]
    },
    {
      "cell_type": "code",
      "source": [
        "handle_exceptions()"
      ],
      "metadata": {
        "colab": {
          "base_uri": "https://localhost:8080/"
        },
        "id": "NXCHcdpZ9WGp",
        "outputId": "9a78468f-98db-464c-bb17-d0185a18ac7c"
      },
      "execution_count": 24,
      "outputs": [
        {
          "output_type": "stream",
          "name": "stdout",
          "text": [
            "Enter the first number: 12\n",
            "Enter the second number: pw\n",
            "Error: Invalid input! Please enter integers only.\n"
          ]
        }
      ]
    },
    {
      "cell_type": "code",
      "source": [
        "handle_exceptions()"
      ],
      "metadata": {
        "colab": {
          "base_uri": "https://localhost:8080/"
        },
        "id": "pa3MsSDQ9WI-",
        "outputId": "bf2dd44b-ea58-46cc-d11c-eaa6962fb4e6"
      },
      "execution_count": 25,
      "outputs": [
        {
          "output_type": "stream",
          "name": "stdout",
          "text": [
            "Enter the first number: 12\n",
            "Enter the second number: 0\n",
            "Error: Cannot divide by zero!\n"
          ]
        }
      ]
    },
    {
      "cell_type": "code",
      "source": [
        "import os\n",
        "os.remove(\"file.txt\")"
      ],
      "metadata": {
        "id": "g_IEVOtbZ1vK"
      },
      "execution_count": 26,
      "outputs": []
    },
    {
      "cell_type": "code",
      "source": [
        "#13. How would you check if a file exists before attempting to read it in Python?\n",
        "import os\n",
        "\n",
        "# Path to the file\n",
        "file_path = 'files.txt'\n",
        "\n",
        "# Check if the file exists\n",
        "if os.path.exists(file_path):\n",
        "    with open(file_path, 'r') as file:\n",
        "        content = file.read()\n",
        "        print(\"File content:\")\n",
        "        print(content)\n",
        "else:\n",
        "    print(f\"Error: The file '{file_path}' does not exist.\")"
      ],
      "metadata": {
        "colab": {
          "base_uri": "https://localhost:8080/"
        },
        "id": "M_zMsKtO9WLK",
        "outputId": "3161ff28-4d52-4a58-fd55-5962eb197614"
      },
      "execution_count": 27,
      "outputs": [
        {
          "output_type": "stream",
          "name": "stdout",
          "text": [
            "File content:\n",
            "Hello this is my first line. This is my second line.This is the third line.\n",
            "This is the fourth line.\n",
            "\n",
            "This is the third line.\n",
            "This is the fourth line.\n",
            "This is the third line.\n",
            "This is the fourth line.\n",
            "\n"
          ]
        }
      ]
    },
    {
      "cell_type": "code",
      "source": [
        "#14. Write a program that uses the logging module to log both informational and error messages.\n",
        "import logging\n",
        "\n",
        "# Configure the logging\n",
        "logging.basicConfig(\n",
        "    filename='app.log',  # Specify the log file where messages will be written\n",
        "    level=logging.DEBUG,  # Capture all levels from DEBUG upwards\n",
        "    format='%(asctime)s - %(levelname)s - %(message)s'  # Log message format\n",
        ")\n",
        "\n",
        "# Log an informational message\n",
        "logging.info(\"This is an informational message.\")\n",
        "\n",
        "# Log an error message\n",
        "try:\n",
        "    result = 10 / 0  # This will raise a ZeroDivisionError\n",
        "except ZeroDivisionError as e:\n",
        "    logging.error(\"Error occurred: %s\", e)"
      ],
      "metadata": {
        "colab": {
          "base_uri": "https://localhost:8080/"
        },
        "id": "UmFDBui2Z0bp",
        "outputId": "c2ecc1f3-e966-4f3c-abba-4365a9c6b380"
      },
      "execution_count": 33,
      "outputs": [
        {
          "output_type": "stream",
          "name": "stderr",
          "text": [
            "ERROR:root:Error occurred: division by zero\n"
          ]
        }
      ]
    },
    {
      "cell_type": "code",
      "source": [
        "#15. Write a Python program that prints the content of a file and handles the case when the file is empty.\n",
        "file = open(\"file1.txt\", \"w\")\n",
        "file.write(\"\")#Empty file\n",
        "file.close()\n",
        "\n",
        "def read_file(file_path):\n",
        "    try:\n",
        "        with open(file_path, 'r') as file:\n",
        "            content = file.read()\n",
        "            if content:  # Check if the file is not empty\n",
        "                print(\"File content:\")\n",
        "                print(content)\n",
        "            else:\n",
        "                print(\"The file is empty.\")\n",
        "    except FileNotFoundError:\n",
        "        print(f\"Error: The file '{file_path}' does not exist.\")\n",
        "# Specify the path to the file\n",
        "file_path = 'file1.txt'\n",
        "\n",
        "# Call the function to read and print the file content\n",
        "read_file(file_path)"
      ],
      "metadata": {
        "colab": {
          "base_uri": "https://localhost:8080/"
        },
        "id": "bRHG2V6M9WNO",
        "outputId": "23b41d0d-6783-423d-ea07-7e5f2eb7b98f"
      },
      "execution_count": 38,
      "outputs": [
        {
          "output_type": "stream",
          "name": "stdout",
          "text": [
            "The file is empty.\n"
          ]
        }
      ]
    },
    {
      "cell_type": "code",
      "source": [
        "#16. Demonstrate how to use memory profiling to check the memory usage of a small program."
      ],
      "metadata": {
        "id": "3k99u4iw9WP1"
      },
      "execution_count": null,
      "outputs": []
    },
    {
      "cell_type": "code",
      "source": [
        "#17. Write a Python program to create and write a list of numbers to a file, one number per line.\n",
        "# Define a list of numbers\n",
        "numbers = [1, 2, 3, 4, 5, 6, 7, 8, 9, 10]\n",
        "\n",
        "# Open a file in write mode ('w')\n",
        "with open('numbers.txt', 'w') as file:\n",
        "    # Write each number from the list to the file, one per line\n",
        "    for number in numbers:\n",
        "        file.write(f\"{number}\\n\")\n",
        "\n",
        "print(\"Numbers have been written to 'numbers.txt' file which is already been made.\")\n"
      ],
      "metadata": {
        "colab": {
          "base_uri": "https://localhost:8080/"
        },
        "id": "i2XJhTcB9WSs",
        "outputId": "5d4f7067-f0bc-49c2-9a79-987b953ddfe2"
      },
      "execution_count": 40,
      "outputs": [
        {
          "output_type": "stream",
          "name": "stdout",
          "text": [
            "Numbers have been written to 'numbers.txt' file which is already been made.\n"
          ]
        }
      ]
    },
    {
      "cell_type": "code",
      "source": [
        "#18. How would you implement a basic logging setup that logs to a file with rotation after 1MB?"
      ],
      "metadata": {
        "id": "NXgntiLB9WU4"
      },
      "execution_count": null,
      "outputs": []
    },
    {
      "cell_type": "code",
      "source": [
        "#19. Write a program that handles both IndexError and KeyError using a try-except block.\n",
        "def handle_errors():\n",
        "    try:\n",
        "        my_list = [1, 2, 3] # Example for IndexError\n",
        "        print(\"Accessing element at index 5:\")\n",
        "        print(my_list[5])  # This will raise IndexError\n",
        "\n",
        "    except IndexError as e:\n",
        "        print(f\"IndexError occurred: {e}\")\n",
        "\n",
        "    try:\n",
        "        my_dict = {'name': 'John', 'age': 30} # Example for KeyError\n",
        "        print(\"\\nAccessing a non-existent key 'address':\")\n",
        "        print(my_dict['address'])  # This will raise KeyError\n",
        "\n",
        "    except KeyError as e:\n",
        "        print(f\"KeyError occurred: {e}\")\n",
        "\n",
        "handle_errors()"
      ],
      "metadata": {
        "colab": {
          "base_uri": "https://localhost:8080/"
        },
        "id": "GvKoAhTt9WYU",
        "outputId": "bd7aa0f8-58f6-41b1-c556-92b2fa0fb4d2"
      },
      "execution_count": 42,
      "outputs": [
        {
          "output_type": "stream",
          "name": "stdout",
          "text": [
            "Accessing element at index 5:\n",
            "IndexError occurred: list index out of range\n",
            "\n",
            "Accessing a non-existent key 'address':\n",
            "KeyError occurred: 'address'\n"
          ]
        }
      ]
    },
    {
      "cell_type": "code",
      "source": [
        "#20 How would you open a file and read its contents using a context manager in Python?\n",
        "# Define the file path\n",
        "file_path = 'file1.txt'#This file is empty.\n",
        "\n",
        "# Use a context manager to open and read the file\n",
        "with open(file_path, 'r') as file:\n",
        "    content = file.read()\n",
        "    print(content)"
      ],
      "metadata": {
        "colab": {
          "base_uri": "https://localhost:8080/"
        },
        "id": "e2XpWDbm9Waf",
        "outputId": "0b5aeb18-5f7c-4e65-80da-da5316f0cb53"
      },
      "execution_count": 46,
      "outputs": [
        {
          "output_type": "stream",
          "name": "stdout",
          "text": [
            "\n"
          ]
        }
      ]
    },
    {
      "cell_type": "code",
      "source": [
        "#21. Write a Python program that reads a file and prints the number of occurrences of a specific word.\n",
        "file=open(\"python_file.txt\",\"w\")\n",
        "file.write(\"Python is widely used and easy language.\")\n",
        "file.close()\n",
        "\n",
        "def count_word_in_file(file_path, word_to_find):\n",
        "    try:\n",
        "        with open(file_path, 'r') as file:\n",
        "            content = file.read()  # Read the entire content of the file\n",
        "            word_count = content.lower().split().count(word_to_find.lower())  # Case-insensitive count\n",
        "            print(f\"The word '{word_to_find}' occurred {word_count} times.\")\n",
        "    except FileNotFoundError:\n",
        "        print(f\"Error: The file '{file_path}' does not exist.\")\n",
        "    except Exception as e:\n",
        "        print(f\"An error occurred: {e}\")\n",
        "\n",
        "# Specify the file path and word to search for\n",
        "file_path = 'python_file.txt'\n",
        "word_to_find = 'python'\n",
        "\n",
        "# Call the function to count occurrences\n",
        "count_word_in_file(file_path, word_to_find)"
      ],
      "metadata": {
        "colab": {
          "base_uri": "https://localhost:8080/"
        },
        "id": "16W7TO7m9WeC",
        "outputId": "1ec2426c-2be4-48aa-94a1-8f6281f17d85"
      },
      "execution_count": 47,
      "outputs": [
        {
          "output_type": "stream",
          "name": "stdout",
          "text": [
            "The word 'python' occurred 1 times.\n"
          ]
        }
      ]
    },
    {
      "cell_type": "code",
      "source": [
        "#22. How can you check if a file is empty before attempting to read its contents?\n",
        "import os\n",
        "\n",
        "def read_file_if_not_empty(file_path):\n",
        "    # Check if the file exists and is not empty\n",
        "    if os.path.exists(file_path) and os.path.getsize(file_path) > 0:\n",
        "        try:\n",
        "            with open(file_path, 'r') as file:\n",
        "                content = file.read()  # Read the entire content of the file\n",
        "                print(\"File content:\")\n",
        "                print(content)\n",
        "        except Exception as e:\n",
        "            print(f\"An error occurred while reading the file: {e}\")\n",
        "    else:\n",
        "        print(f\"The file '{file_path}' is either empty or does not exist.\")\n",
        "\n",
        "file_path = 'file1.txt'#file1 is empty.\n",
        "read_file_if_not_empty(file_path)"
      ],
      "metadata": {
        "colab": {
          "base_uri": "https://localhost:8080/"
        },
        "id": "1R8_PneM9Wh-",
        "outputId": "dbe38245-03ce-4201-94cf-2aa704832df2"
      },
      "execution_count": 48,
      "outputs": [
        {
          "output_type": "stream",
          "name": "stdout",
          "text": [
            "The file 'file1.txt' is either empty or does not exist.\n"
          ]
        }
      ]
    },
    {
      "cell_type": "code",
      "source": [
        "import os\n",
        "\n",
        "def read_file_if_not_empty(file_path):\n",
        "    # Check if the file exists and is not empty\n",
        "    if os.path.exists(file_path) and os.path.getsize(file_path) > 0:\n",
        "        try:\n",
        "            with open(file_path, 'r') as file:\n",
        "                content = file.read()  # Read the entire content of the file\n",
        "                print(\"File content:\")\n",
        "                print(content)\n",
        "        except Exception as e:\n",
        "            print(f\"An error occurred while reading the file: {e}\")\n",
        "    else:\n",
        "        print(f\"The file '{file_path}' is either empty or does not exist.\")\n",
        "\n",
        "file_path = 'numbers.txt'#file(numbers) has numbers 1 to 10.\n",
        "read_file_if_not_empty(file_path)"
      ],
      "metadata": {
        "colab": {
          "base_uri": "https://localhost:8080/"
        },
        "id": "DPNzo2zP9WkE",
        "outputId": "42e9bf87-e255-451e-83b3-a2c3ff3886b4"
      },
      "execution_count": 49,
      "outputs": [
        {
          "output_type": "stream",
          "name": "stdout",
          "text": [
            "File content:\n",
            "1\n",
            "2\n",
            "3\n",
            "4\n",
            "5\n",
            "6\n",
            "7\n",
            "8\n",
            "9\n",
            "10\n",
            "\n"
          ]
        }
      ]
    },
    {
      "cell_type": "code",
      "source": [
        "#23. Write a Python program that writes to a log file when an error occurs during file handling."
      ],
      "metadata": {
        "id": "W4Kks7ga9WmH"
      },
      "execution_count": null,
      "outputs": []
    },
    {
      "cell_type": "code",
      "source": [],
      "metadata": {
        "id": "NDzXN76q9WoR"
      },
      "execution_count": null,
      "outputs": []
    },
    {
      "cell_type": "code",
      "source": [],
      "metadata": {
        "id": "kl90wJ7k9Wqb"
      },
      "execution_count": null,
      "outputs": []
    },
    {
      "cell_type": "code",
      "source": [],
      "metadata": {
        "id": "wCWDO-Cv9WtH"
      },
      "execution_count": null,
      "outputs": []
    },
    {
      "cell_type": "code",
      "source": [],
      "metadata": {
        "id": "33Y_Cuf99WvH"
      },
      "execution_count": null,
      "outputs": []
    },
    {
      "cell_type": "code",
      "source": [],
      "metadata": {
        "id": "jbx5nV459WyW"
      },
      "execution_count": null,
      "outputs": []
    },
    {
      "cell_type": "code",
      "source": [],
      "metadata": {
        "id": "arTvpstt9W1M"
      },
      "execution_count": null,
      "outputs": []
    }
  ]
}